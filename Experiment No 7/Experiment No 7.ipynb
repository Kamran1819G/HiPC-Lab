{
 "cells": [
  {
   "cell_type": "markdown",
   "metadata": {},
   "source": [
    "![](../lab%20header%20image.png)"
   ]
  },
  {
   "cell_type": "markdown",
   "metadata": {},
   "source": [
    "<div style=\"text-align: center;\">\n",
    "    <h3>Experiment No. 07</h3>\n",
    "</div>"
   ]
  },
  {
   "cell_type": "markdown",
   "metadata": {},
   "source": [
    "<img src=\"../Student%20Information.png\" style=\"width: 100%;\" alt=\"Student Information\">"
   ]
  },
  {
   "cell_type": "markdown",
   "metadata": {},
   "source": [
    "<div style=\"border: 1px solid #ccc; padding: 8px; background-color: #f0f0f0; text-align: center;\">\n",
    "    <strong>AIM</strong>\n",
    "</div>"
   ]
  },
  {
   "cell_type": "markdown",
   "metadata": {},
   "source": [
    "**To implement a Java program with two threads: one for user input and one for continuous console printing, showcasing concurrent task execution.**"
   ]
  },
  {
   "cell_type": "markdown",
   "metadata": {},
   "source": [
    "<div style=\"border: 1px solid #ccc; padding: 8px; background-color: #f0f0f0; text-align: center;\">\n",
    "    <strong>Theory/Procedure/Algorithm</strong>\n",
    "</div>"
   ]
  },
  {
   "cell_type": "markdown",
   "metadata": {},
   "source": [
    "Multithreading is the ability of a CPU or a program to manage its tasks using multiple threads simultaneously. A thread in Java is a lightweight process that executes a task. When a program is divided into threads, different parts of the program can run concurrently, which can lead to more efficient use of system resources.\n",
    "\n",
    "In this experiment, we will use two threads:\n",
    "\n",
    "1. **Input Thread**: Waits for the user to provide input.\n",
    "2. **Print Thread**: Continuously prints a message to the console until input is received.\n",
    "\n",
    "Multithreading helps in:\n",
    "\n",
    "- **Improving performance**: Multiple tasks can be executed at the same time.\n",
    "- **Resource sharing**: Threads share the same memory space.\n",
    "- **Concurrency**: It allows the execution of multiple threads simultaneously, which can make the application more responsive.\n",
    "\n",
    "In this Java program, one thread will keep printing on the console, while another will wait for user input. Once the input is provided, the printing thread will stop."
   ]
  },
  {
   "cell_type": "code",
   "execution_count": null,
   "metadata": {},
   "outputs": [],
   "source": [
    "import java.util.Scanner;\n",
    "\n",
    "class InputHandler extends Thread {\n",
    "    private volatile boolean running = true;\n",
    "\n",
    "    // Method to stop the printing thread\n",
    "    public void stopPrinting() {\n",
    "        running = false;\n",
    "    }\n",
    "\n",
    "    @Override\n",
    "    public void run() {\n",
    "        Scanner scanner = new Scanner(System.in);\n",
    "        System.out.println(\"InputHandler: Waiting for user input...\");\n",
    "        scanner.nextLine(); // Waits for the user to press Enter\n",
    "        stopPrinting(); // Stops the printing thread once input is given\n",
    "        System.out.println(\"InputHandler: User input received. Stopping the printing thread.\");\n",
    "        scanner.close();\n",
    "    }\n",
    "\n",
    "    public boolean isRunning() {\n",
    "        return running;\n",
    "    }\n",
    "}\n",
    "\n",
    "class ConsolePrinter extends Thread {\n",
    "    private InputHandler inputHandler;\n",
    "\n",
    "    public ConsolePrinter(InputHandler inputHandler) {\n",
    "        this.inputHandler = inputHandler;\n",
    "    }\n",
    "\n",
    "    @Override\n",
    "    public void run() {\n",
    "        while (inputHandler.isRunning()) {\n",
    "            System.out.println(\"ConsolePrinter: Printing...\");\n",
    "            try {\n",
    "                Thread.sleep(2000);\n",
    "            } catch (InterruptedException e) {\n",
    "                e.printStackTrace();\n",
    "            }\n",
    "        }\n",
    "        System.out.println(\"ConsolePrinter: Stopped printing as user input is received.\");\n",
    "    }\n",
    "}\n",
    "\n",
    "public class ConcurrentInputPrinter {\n",
    "    public static void main(String[] args) {\n",
    "        // Create the InputHandler object\n",
    "        InputHandler inputHandler = new InputHandler();\n",
    "\n",
    "        // Create the ConsolePrinter object and pass the InputHandler reference\n",
    "        ConsolePrinter consolePrinter = new ConsolePrinter(inputHandler);\n",
    "\n",
    "        // Start both threads\n",
    "        inputHandler.start();\n",
    "        consolePrinter.start();\n",
    "    }\n",
    "}\n"
   ]
  },
  {
   "cell_type": "markdown",
   "metadata": {},
   "source": [
    "![](./output.png)"
   ]
  },
  {
   "cell_type": "markdown",
   "metadata": {},
   "source": [
    "1. **Thread Creation**: Threads in Java can be created by extending the `Thread` class or implementing the `Runnable` interface. In this program, we extended the `Thread` class for both threads: one for input and one for printing.\n",
    "2. **Volatile Keyword**: We use `volatile` to ensure that changes made to the `running` variable in one thread are visible to the other thread. This guarantees that the printing thread stops once input is received.\n",
    "3. **Thread Communication**: The printing thread checks the status of the `running` variable (which is controlled by the input thread) to determine when to stop printing.\n",
    "4. `Thread.sleep()`: This method causes the print thread to pause for a specified duration (2 second) between prints, ensuring that it doesn't consume too many resources."
   ]
  },
  {
   "cell_type": "markdown",
   "metadata": {},
   "source": [
    "**Reference materials:**\n",
    "\n",
    "- https://www.geeksforgeeks.org/java-multithreading-tutorial"
   ]
  },
  {
   "cell_type": "markdown",
   "metadata": {},
   "source": [
    "<div style=\"border: 1px solid #ccc; padding: 8px; background-color: #f0f0f0; text-align: center;\">\n",
    "    <strong>CONCLUSION</strong>\n",
    "</div>"
   ]
  },
  {
   "cell_type": "markdown",
   "metadata": {},
   "source": [
    "This experiment demonstrates the concept of multithreading by showing how two threads can run concurrently. One thread continuously prints a message on the console, while another waits for the user to provide input. Once the input is received, the printing thread stops. The use of threads allows for concurrent execution, improving efficiency and responsiveness in applications where multiple tasks need to be handled simultaneously.\n",
    "\n",
    "In real-world applications, multithreading is essential for handling tasks like network communication, file processing, and other long-running processes without blocking the main thread."
   ]
  },
  {
   "cell_type": "markdown",
   "metadata": {},
   "source": [
    "<div style=\"border: 1px solid #ccc; padding: 8px; background-color: #f0f0f0; text-align: center;\">\n",
    "    <strong>ASSESSMENT</strong>\n",
    "</div>"
   ]
  },
  {
   "cell_type": "markdown",
   "metadata": {},
   "source": [
    "<img src=\"../marks_distribution.png\" style=\"width: 100%;\" alt=\"marks_distribution\">"
   ]
  }
 ],
 "metadata": {
  "kernelspec": {
   "display_name": "Python 3 (ipykernel)",
   "language": "python",
   "name": "python3"
  },
  "language_info": {
   "codemirror_mode": {
    "name": "ipython",
    "version": 3
   },
   "file_extension": ".py",
   "mimetype": "text/x-python",
   "name": "python",
   "nbconvert_exporter": "python",
   "pygments_lexer": "ipython3",
   "version": "3.12.2"
  }
 },
 "nbformat": 4,
 "nbformat_minor": 4
}
