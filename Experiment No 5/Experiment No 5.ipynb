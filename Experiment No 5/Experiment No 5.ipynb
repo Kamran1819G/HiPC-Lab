{
 "cells": [
  {
   "cell_type": "markdown",
   "metadata": {},
   "source": [
    "![](../lab%20header%20image.png)"
   ]
  },
  {
   "cell_type": "markdown",
   "metadata": {},
   "source": [
    "<div style=\"text-align: center;\">\n",
    "    <h3>Experiment No. 05</h3>\n",
    "</div>"
   ]
  },
  {
   "cell_type": "markdown",
   "metadata": {},
   "source": [
    "<img src=\"../Student%20Information.png\" style=\"width: 100%;\" alt=\"Student Information\">"
   ]
  },
  {
   "cell_type": "markdown",
   "metadata": {},
   "source": [
    "<div style=\"border: 1px solid #ccc; padding: 8px; background-color: #f0f0f0; text-align: center;\">\n",
    "    <strong>AIM</strong>\n",
    "</div>"
   ]
  },
  {
   "cell_type": "markdown",
   "metadata": {},
   "source": [
    "**Use Multithreading to calculate sum of 10 thousand integers in Java using synchronized keywords.**"
   ]
  },
  {
   "cell_type": "markdown",
   "metadata": {},
   "source": [
    "<div style=\"border: 1px solid #ccc; padding: 8px; background-color: #f0f0f0; text-align: center;\">\n",
    "    <strong>Theory/Procedure/Algorithm</strong>\n",
    "</div>"
   ]
  },
  {
   "cell_type": "markdown",
   "metadata": {},
   "source": [
    "Multithreading is a programming concept that allows concurrent execution of two or more threads. In Java, multithreading can help improve performance by utilizing the CPU efficiently, especially for I/O-bound or CPU-bound operations.\n",
    "\n",
    "**Synchronized Keyword**: In Java, the `synchronized` keyword is used to control access to a block of code or an object. When a method is declared as synchronized, only one thread can execute that method at any given time for a particular object. This ensures that the method can safely modify shared resources, preventing race conditions.\n",
    "\n",
    "**Race Condition**: A race condition occurs when two or more threads access shared data and try to change it at the same time. Using synchronized methods can help avoid this issue."
   ]
  },
  {
   "cell_type": "code",
   "execution_count": null,
   "metadata": {},
   "outputs": [],
   "source": [
    "public class MultiThreadedSum {\n",
    "    private static int sum = 0; // Shared resource\n",
    "\n",
    "    // Synchronized method to update the sum\n",
    "    public synchronized void addToSum(int value) {\n",
    "        sum += value;\n",
    "    }\n",
    "\n",
    "    public static void main(String[] args) throws InterruptedException {\n",
    "        MultiThreadedSum multiThreadedSum = new MultiThreadedSum();\n",
    "        int numThreads = 10; // Number of threads\n",
    "        int range = 10000; // Range of integers to sum\n",
    "        Thread[] threads = new Thread[numThreads];\n",
    "\n",
    "        // Create threads\n",
    "        for (int i = 0; i < numThreads; i++) {\n",
    "            threads[i] = new Thread(new SumTask(multiThreadedSum, i * (range / numThreads), (i + 1) * (range / numThreads)));\n",
    "            threads[i].start(); // Start the thread\n",
    "        }\n",
    "\n",
    "        // Wait for all threads to finish\n",
    "        for (Thread thread : threads) {\n",
    "            thread.join();\n",
    "        }\n",
    "\n",
    "        // Print the final sum\n",
    "        System.out.println(\"The sum of the first \" + range + \" integers is: \" + sum);\n",
    "    }\n",
    "\n",
    "    // Runnable task that sums a range of integers\n",
    "    static class SumTask implements Runnable {\n",
    "        private final MultiThreadedSum multiThreadedSum;\n",
    "        private final int start;\n",
    "        private final int end;\n",
    "\n",
    "        public SumTask(MultiThreadedSum multiThreadedSum, int start, int end) {\n",
    "            this.multiThreadedSum = multiThreadedSum;\n",
    "            this.start = start;\n",
    "            this.end = end;\n",
    "        }\n",
    "\n",
    "        @Override\n",
    "        public void run() {\n",
    "            for (int i = start; i < end; i++) {\n",
    "                multiThreadedSum.addToSum(i);\n",
    "            }\n",
    "        }\n",
    "    }\n",
    "}"
   ]
  },
  {
   "cell_type": "markdown",
   "metadata": {},
   "source": [
    "![](./output.png)"
   ]
  },
  {
   "cell_type": "markdown",
   "metadata": {},
   "source": [
    "#### Explanation of Code\n",
    "\n",
    "1. **Shared Resource**: The sum variable is a shared resource across all threads.\n",
    "2. **Synchronized Method**: The addToSum method is synchronized to ensure that only one thread can access it at a time, preventing race conditions when updating the sum.\n",
    "3. **Creating Threads**: In the main method, we create a specified number of threads, each responsible for summing a range of integers.\n",
    "4. **Runnable Implementation**: The SumTask class implements Runnable and defines the logic for summing a segment of integers.\n",
    "5. **Joining Threads**: The main thread waits for all threads to complete using the join() method before printing the final sum."
   ]
  },
  {
   "cell_type": "markdown",
   "metadata": {},
   "source": [
    "**Reference materials:**\n",
    "\n",
    "- https://www.geeksforgeeks.org/multithreading-in-java\n",
    "- https://www.geeksforgeeks.org/runnable-interface-in-java\n",
    "- https://www.geeksforgeeks.org/synchronization-in-java/"
   ]
  },
  {
   "cell_type": "markdown",
   "metadata": {},
   "source": [
    "<div style=\"height: 100px;\"></div>\n"
   ]
  },
  {
   "cell_type": "markdown",
   "metadata": {},
   "source": [
    "<div style=\"border: 1px solid #ccc; padding: 8px; background-color: #f0f0f0; text-align: center;\">\n",
    "    <strong>CONCLUSION</strong>\n",
    "</div>"
   ]
  },
  {
   "cell_type": "markdown",
   "metadata": {},
   "source": [
    "In this experiment, we successfully utilized multithreading in Java to calculate the sum of 10,000 integers while ensuring thread safety through the `synchronized` keyword. By dividing the workload among multiple threads, we can improve performance, especially in larger computations.\n",
    "\n",
    "Using synchronization is crucial in multithreaded applications when dealing with shared resources to prevent data inconsistencies caused by race conditions. This implementation demonstrates a fundamental approach to multithreading in Java and showcases how synchronization can help manage access to shared data effectively."
   ]
  },
  {
   "cell_type": "markdown",
   "metadata": {},
   "source": [
    "<div style=\"border: 1px solid #ccc; padding: 8px; background-color: #f0f0f0; text-align: center;\">\n",
    "    <strong>ASSESSMENT</strong>\n",
    "</div>"
   ]
  },
  {
   "cell_type": "markdown",
   "metadata": {},
   "source": [
    "<img src=\"../marks_distribution.png\" style=\"width: 100%;\" alt=\"marks_distribution\">"
   ]
  }
 ],
 "metadata": {
  "kernelspec": {
   "display_name": "Python 3 (ipykernel)",
   "language": "python",
   "name": "python3"
  },
  "language_info": {
   "codemirror_mode": {
    "name": "ipython",
    "version": 3
   },
   "file_extension": ".py",
   "mimetype": "text/x-python",
   "name": "python",
   "nbconvert_exporter": "python",
   "pygments_lexer": "ipython3",
   "version": "3.12.2"
  }
 },
 "nbformat": 4,
 "nbformat_minor": 4
}
