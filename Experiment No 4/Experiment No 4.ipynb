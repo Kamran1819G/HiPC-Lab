{
 "cells": [
  {
   "cell_type": "markdown",
   "metadata": {},
   "source": [
    "![](../lab%20header%20image.png)"
   ]
  },
  {
   "cell_type": "markdown",
   "metadata": {},
   "source": [
    "<div style=\"text-align: center;\">\n",
    "    <h3>Experiment No. 04</h3>\n",
    "</div>"
   ]
  },
  {
   "cell_type": "markdown",
   "metadata": {},
   "source": [
    "<img src=\"../Student%20Information.png\" style=\"width: 100%;\" alt=\"Student Information\">"
   ]
  },
  {
   "cell_type": "markdown",
   "metadata": {},
   "source": [
    "<div style=\"border: 1px solid #ccc; padding: 8px; background-color: #f0f0f0; text-align: center;\">\n",
    "    <strong>AIM</strong>\n",
    "</div>"
   ]
  },
  {
   "cell_type": "markdown",
   "metadata": {},
   "source": [
    "**To implement and observe the behavior of thread priorities in Java multithreading.**"
   ]
  },
  {
   "cell_type": "markdown",
   "metadata": {},
   "source": [
    "<div style=\"border: 1px solid #ccc; padding: 8px; background-color: #f0f0f0; text-align: center;\">\n",
    "    <strong>Theory/Procedure/Algorithm</strong>\n",
    "</div>"
   ]
  },
  {
   "cell_type": "markdown",
   "metadata": {},
   "source": [
    "Multithreading in Java allows concurrent execution of two or more threads. Each thread in Java is assigned a priority, an integer value ranging from 1 to 10, where:\n",
    "\n",
    "- **Minimum Priority**: 1\n",
    "- **Normal Priority (Default)**: 5\n",
    "- **Maximum Priority**: 10\n",
    "\n",
    "The priority of a thread is used by the thread scheduler to decide the order in which threads should be executed. However, thread priorities do not guarantee the exact order of execution. The underlying operating system decides which thread runs first, based on its scheduling policy.\n",
    "\n",
    "Methods used for thread priority manipulation:\n",
    "\n",
    "- `getPriority()`: Returns the priority of the thread.\n",
    "- `setPriority(int priority)`: Sets the priority of the thread within the valid range (1–10). Trying to set a priority outside this range throws an `IllegalArgumentException`.\n",
    "\n",
    "The thread scheduler generally favors threads with higher priority, but it is not deterministic and can vary depending on the system."
   ]
  },
  {
   "cell_type": "code",
   "execution_count": null,
   "metadata": {},
   "outputs": [],
   "source": [
    "// Main class to demonstrate thread priorities with a real task\n",
    "class PriorityThreadExample extends Thread {\n",
    "\n",
    "    // Constructor to set thread name\n",
    "    public PriorityThreadExample(String name) {\n",
    "        super(name);\n",
    "    }\n",
    "\n",
    "    // run() method for the thread that is called when start() is invoked\n",
    "    public void run() {\n",
    "        // Print the current thread executing the run method\n",
    "        System.out.println(\"Executing run method of thread: \" + Thread.currentThread().getName());\n",
    "\n",
    "        // Simulating a time-consuming task (e.g., loop over a large range)\n",
    "        for (int i = 1; i <= 1000000; i++) {\n",
    "            if (i % 100000 == 0) {\n",
    "                System.out.println(getName() + \" has completed \" + (i / 10000) + \"% of the task\");\n",
    "            }\n",
    "        }\n",
    "\n",
    "        // Indicating that the thread has completed its task\n",
    "        System.out.println(getName() + \" has finished execution.\");\n",
    "    }\n",
    "\n",
    "    // Main driver method\n",
    "    public static void main(String[] args) {\n",
    "        // Creating threads with meaningful names\n",
    "        PriorityThreadExample thread1 = new PriorityThreadExample(\"Thread-1\");\n",
    "        PriorityThreadExample thread2 = new PriorityThreadExample(\"Thread-2\");\n",
    "        PriorityThreadExample thread3 = new PriorityThreadExample(\"Thread-3\");\n",
    "\n",
    "        // Displaying the default priority of threads\n",
    "        System.out.println(\"Thread 1 default priority: \" + thread1.getPriority());\n",
    "        System.out.println(\"Thread 2 default priority: \" + thread2.getPriority());\n",
    "        System.out.println(\"Thread 3 default priority: \" + thread3.getPriority());\n",
    "\n",
    "        // Setting custom priorities for threads\n",
    "        thread1.setPriority(2); // Lower priority\n",
    "        thread2.setPriority(5); // Normal priority\n",
    "        thread3.setPriority(8); // Higher priority\n",
    "\n",
    "        // Display the updated priority of threads\n",
    "        System.out.println(\"Updated Thread 1 priority: \" + thread1.getPriority());\n",
    "        System.out.println(\"Updated Thread 2 priority: \" + thread2.getPriority());\n",
    "        System.out.println(\"Updated Thread 3 priority: \" + thread3.getPriority());\n",
    "\n",
    "        // Start the threads to observe their execution behavior\n",
    "        thread1.start();\n",
    "        thread2.start();\n",
    "        thread3.start();\n",
    "\n",
    "        // Display main thread's current state\n",
    "        System.out.println(\"Currently executing thread: \" + Thread.currentThread().getName());\n",
    "        System.out.println(\"Main thread default priority: \" + Thread.currentThread().getPriority());\n",
    "\n",
    "        // Set and display updated main thread priority\n",
    "        Thread.currentThread().setPriority(10);\n",
    "        System.out.println(\"Updated Main thread priority: \" + Thread.currentThread().getPriority());\n",
    "\n",
    "        // Main thread doing some work too\n",
    "        for (int i = 1; i <= 500000; i++) {\n",
    "            if (i % 100000 == 0) {\n",
    "                System.out.println(\"Main thread has completed \" + (i / 5000) + \"% of its task\");\n",
    "            }\n",
    "        }\n",
    "\n",
    "        System.out.println(\"Main thread has finished execution.\");\n",
    "    }\n",
    "}"
   ]
  },
  {
   "cell_type": "markdown",
   "metadata": {},
   "source": [
    "![](./output.png)"
   ]
  },
  {
   "cell_type": "markdown",
   "metadata": {},
   "source": [
    "##### Why do we have the same priority for different threads initially?"
   ]
  },
  {
   "cell_type": "markdown",
   "metadata": {},
   "source": [
    "All threads created using the default constructor inherit the default priority, which is **5**. This explains why, at first, the priority for all three threads is the same. We must explicitly set different priorities using the `setPriority()` method if we want them to differ."
   ]
  },
  {
   "cell_type": "markdown",
   "metadata": {},
   "source": [
    "##### If the system assigns the same priority to different threads, how is that implemented?"
   ]
  },
  {
   "cell_type": "markdown",
   "metadata": {},
   "source": [
    "When multiple threads have the same priority, the thread scheduler uses a **round-robin scheduling** or **time-slicing** strategy. This ensures that all threads with the same priority are given CPU time in a cyclic fashion, so none of them is starved for resources. However, the actual behavior depends on the underlying operating system and JVM implementation, and thus, the execution order is not guaranteed."
   ]
  },
  {
   "cell_type": "markdown",
   "metadata": {},
   "source": [
    "**Reference materials:**\n",
    "\n",
    "- https://www.geeksforgeeks.org/java-thread-priority-multithreading\n",
    "- https://www.geeksforgeeks.org/java-multithreading-tutorial"
   ]
  },
  {
   "cell_type": "markdown",
   "metadata": {},
   "source": [
    "<div style=\"border: 1px solid #ccc; padding: 8px; background-color: #f0f0f0; text-align: center;\">\n",
    "    <strong>CONCLUSION</strong>\n",
    "</div>"
   ]
  },
  {
   "cell_type": "markdown",
   "metadata": {},
   "source": [
    "In this experiment, we successfully implemented thread priority manipulation in Java using the `getPriority()` and `setPriority()` methods. We observed that the default priority for all threads is 5 and that modifying the priority allows us to influence (but not control) the thread scheduling behavior. Threads with higher priority are more likely to be scheduled sooner, but the exact execution order is dependent on the system's thread scheduler."
   ]
  },
  {
   "cell_type": "markdown",
   "metadata": {},
   "source": [
    "<div style=\"border: 1px solid #ccc; padding: 8px; background-color: #f0f0f0; text-align: center;\">\n",
    "    <strong>ASSESSMENT</strong>\n",
    "</div>"
   ]
  },
  {
   "cell_type": "markdown",
   "metadata": {},
   "source": [
    "<img src=\"../marks_distribution.png\" style=\"width: 100%;\" alt=\"marks_distribution\">"
   ]
  }
 ],
 "metadata": {
  "kernelspec": {
   "display_name": "Python 3 (ipykernel)",
   "language": "python",
   "name": "python3"
  },
  "language_info": {
   "codemirror_mode": {
    "name": "ipython",
    "version": 3
   },
   "file_extension": ".py",
   "mimetype": "text/x-python",
   "name": "python",
   "nbconvert_exporter": "python",
   "pygments_lexer": "ipython3",
   "version": "3.12.2"
  }
 },
 "nbformat": 4,
 "nbformat_minor": 4
}
