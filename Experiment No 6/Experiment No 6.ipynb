{
 "cells": [
  {
   "cell_type": "markdown",
   "metadata": {},
   "source": [
    "![](../lab%20header%20image.png)"
   ]
  },
  {
   "cell_type": "markdown",
   "metadata": {},
   "source": [
    "<div style=\"text-align: center;\">\n",
    "    <h3>Experiment No. 06</h3>\n",
    "</div>"
   ]
  },
  {
   "cell_type": "markdown",
   "metadata": {},
   "source": [
    "<img src=\"../Student%20Information.png\" style=\"width: 100%;\" alt=\"Student Information\">"
   ]
  },
  {
   "cell_type": "markdown",
   "metadata": {},
   "source": [
    "<div style=\"border: 1px solid #ccc; padding: 8px; background-color: #f0f0f0; text-align: center;\">\n",
    "    <strong>AIM</strong>\n",
    "</div>"
   ]
  },
  {
   "cell_type": "markdown",
   "metadata": {},
   "source": [
    "**To implement a multithreaded Java program that efficiently finds prime and palindrome numbers in a given range.**"
   ]
  },
  {
   "cell_type": "markdown",
   "metadata": {},
   "source": [
    "<div style=\"border: 1px solid #ccc; padding: 8px; background-color: #f0f0f0; text-align: center;\">\n",
    "    <strong>Theory/Procedure/Algorithm</strong>\n",
    "</div>"
   ]
  },
  {
   "cell_type": "markdown",
   "metadata": {},
   "source": [
    "In computing, **multithreading** is a powerful technique used to perform multiple tasks concurrently by dividing them into separate threads. Each thread runs independently, allowing better utilization of CPU resources, especially on multi-core systems. In this experiment, we implement a Java program that utilizes multithreading to find **prime numbers** and **palindrome numbers** within a given range. The use of multithreading makes the program more efficient by distributing the computational workload across multiple threads.\n",
    "\n",
    "#### Prime Numbers\n",
    "A **prime number** is a natural number greater than 1 that has no divisors other than 1 and itself. Prime numbers are fundamental in number theory due to their unique properties and their applications in cryptography, hashing algorithms, and other areas.\n",
    "\n",
    "To check whether a number is prime:\n",
    "\n",
    "    - A number n is prime if it is not divisible by any number from 2 to the square root of n.\n",
    "\n",
    "#### Palindrome Numbers\n",
    "A **palindrome number** is a number that remains the same when its digits are reversed. For example, 121 and 1331 are palindromes because reading them forward and backward yields the same value.\n",
    "\n",
    "To check whether a number is a palindrome:\n",
    "\n",
    "    - Reverse the digits of the number and compare the reversed number with the original. If they are equal, the number is a palindrome.\n",
    "\n",
    "\n",
    "#### Multithreading in Java\n",
    "Java supports multithreading through two main mechanisms: the `Thread` class and the `Runnable` interface. In this experiment, multiple threads will be created to divide the task of finding prime and palindrome numbers over a given range. Each thread will handle a portion of the range, checking if the numbers within that portion are both prime and palindromes.\n",
    "\n",
    "This parallel processing approach significantly reduces the time complexity compared to a single-threaded implementation, particularly for large ranges of numbers. By distributing the workload, the program makes use of multiple CPU cores and ensures that computations are completed faster and more efficiently.\n",
    "\n",
    "#### Steps in the Program:\n",
    "1. Define the `PrimeFinder` Class:\n",
    "\n",
    "    - Implements `Runnable` to find prime numbers within a specified range.\n",
    "    - Constructor initializes the start and end of the range.\n",
    "    - The `run()` method appends prime numbers to a `StringBuilder`.\n",
    "    - The `isPrime()` method checks if a number is prime.\n",
    "    - Synchronized output to avoid interleaving when printing results.\n",
    "\n",
    "2. Define the `PalindromeFinder` Class:\n",
    "\n",
    "    - Also implements `Runnable` to find palindrome numbers.\n",
    "    - Constructor initializes the range.\n",
    "    - The `run()` method appends palindromes to a `StringBuilder`.\n",
    "    - The `isPalindrome()` method checks if a number is a palindrome.\n",
    "    - Synchronized output for safe printing.\n",
    "\n",
    "3. Main Class (MultithreadedPrimePalindromeFinder):\n",
    "\n",
    "    - Set the range from `1` to `1000` and define `4` threads.\n",
    "    - Calculate `rangePerThread` for equal distribution.\n",
    "\n",
    "4. Create and Start Prime Finder Threads:\n",
    "\n",
    "    - Create an array of `Thread` objects for prime finding.\n",
    "    - Assign `PrimeFinder` tasks to each thread with specific ranges and start the threads.\n",
    "\n",
    "5. Create and Start Palindrome Finder Threads:\n",
    "\n",
    "    - Create another array of `Thread` objects for palindrome finding.\n",
    "    - Assign `PalindromeFinder` tasks to each thread with specific ranges and start the threads.\n",
    "\n",
    "6. Wait for Threads to Complete:\n",
    "\n",
    "    - Use `join()` on each prime finder thread to ensure they finish.\n",
    "    - Similarly, call `join()` on each palindrome finder thread.\n",
    "\n",
    "7. Print Completion Message:\n",
    "\n",
    "    - After all threads complete, print a message indicating the search is finished.\n",
    "\n",
    "The program is structured to optimize CPU utilization and minimize execution time, demonstrating the benefits of multithreading for computational tasks like prime and palindrome number detection."
   ]
  },
  {
   "cell_type": "code",
   "execution_count": null,
   "metadata": {},
   "outputs": [],
   "source": [
    "class PrimeFinder implements Runnable {\n",
    "    private int startRange, endRange;\n",
    "\n",
    "    public PrimeFinder(int start, int end) {\n",
    "        this.startRange = start;\n",
    "        this.endRange = end;\n",
    "    }\n",
    "\n",
    "    @Override\n",
    "    public void run() {\n",
    "        StringBuilder primes = new StringBuilder();\n",
    "        primes.append(\"Prime numbers from \").append(startRange).append(\" to \").append(endRange).append(\": \\n\");\n",
    "        for (int num = startRange; num <= endRange; num++) {\n",
    "            if (isPrime(num)) {\n",
    "                primes.append(num).append(\" \");\n",
    "            }\n",
    "        }\n",
    "        synchronized (System.out) {\n",
    "            System.out.println(primes.toString());\n",
    "        }\n",
    "    }\n",
    "\n",
    "    private boolean isPrime(int num) {\n",
    "        if (num <= 1)\n",
    "            return false;\n",
    "        for (int i = 2; i <= Math.sqrt(num); i++) {\n",
    "            if (num % i == 0)\n",
    "                return false;\n",
    "        }\n",
    "        return true;\n",
    "    }\n",
    "}\n",
    "\n",
    "class PalindromeFinder implements Runnable {\n",
    "    private int startRange, endRange;\n",
    "\n",
    "    public PalindromeFinder(int start, int end) {\n",
    "        this.startRange = start;\n",
    "        this.endRange = end;\n",
    "    }\n",
    "\n",
    "    @Override\n",
    "    public void run() {\n",
    "        StringBuilder palindromes = new StringBuilder();\n",
    "        palindromes.append(\"Palindrome numbers from \").append(startRange).append(\" to \").append(endRange)\n",
    "                .append(\": \\n\");\n",
    "        for (int num = startRange; num <= endRange; num++) {\n",
    "            if (isPalindrome(num)) {\n",
    "                palindromes.append(num).append(\" \");\n",
    "            }\n",
    "        }\n",
    "        synchronized (System.out) {\n",
    "            System.out.println(palindromes.toString());\n",
    "        }\n",
    "    }\n",
    "\n",
    "    private boolean isPalindrome(int num) {\n",
    "        int original = num, reversed = 0;\n",
    "        while (num > 0) {\n",
    "            int digit = num % 10;\n",
    "            reversed = reversed * 10 + digit;\n",
    "            num /= 10;\n",
    "        }\n",
    "        return original == reversed;\n",
    "    }\n",
    "}\n",
    "\n",
    "public class MultithreadedPrimePalindromeFinder {\n",
    "    public static void main(String[] args) {\n",
    "        int start = 1, end = 1000; // Range of numbers to check\n",
    "        int numThreads = 4; // Number of threads\n",
    "\n",
    "        // Divide the range for both prime and palindrome finders\n",
    "        int rangePerThread = (end - start + 1) / numThreads;\n",
    "\n",
    "        // Prime Finder Threads\n",
    "        Thread[] primeThreads = new Thread[numThreads];\n",
    "        for (int i = 0; i < numThreads; i++) {\n",
    "            int threadStart = start + (i * rangePerThread);\n",
    "            int threadEnd = (i == numThreads - 1) ? end : threadStart + rangePerThread - 1;\n",
    "            primeThreads[i] = new Thread(new PrimeFinder(threadStart, threadEnd));\n",
    "            primeThreads[i].start();\n",
    "        }\n",
    "\n",
    "        // Palindrome Finder Threads\n",
    "        Thread[] palindromeThreads = new Thread[numThreads];\n",
    "        for (int i = 0; i < numThreads; i++) {\n",
    "            int threadStart = start + (i * rangePerThread);\n",
    "            int threadEnd = (i == numThreads - 1) ? end : threadStart + rangePerThread - 1;\n",
    "            palindromeThreads[i] = new Thread(new PalindromeFinder(threadStart, threadEnd));\n",
    "            palindromeThreads[i].start();\n",
    "        }\n",
    "\n",
    "        // Wait for all prime threads to finish\n",
    "        for (Thread thread : primeThreads) {\n",
    "            try {\n",
    "                thread.join();\n",
    "            } catch (InterruptedException e) {\n",
    "                e.printStackTrace();\n",
    "            }\n",
    "        }\n",
    "\n",
    "        // Wait for all palindrome threads to finish\n",
    "        for (Thread thread : palindromeThreads) {\n",
    "            try {\n",
    "                thread.join();\n",
    "            } catch (InterruptedException e) {\n",
    "                e.printStackTrace();\n",
    "            }\n",
    "        }\n",
    "\n",
    "        System.out.println(\"Prime and Palindrome search completed.\");\n",
    "    }\n",
    "}\n"
   ]
  },
  {
   "cell_type": "markdown",
   "metadata": {},
   "source": [
    "![](./output.png)"
   ]
  },
  {
   "cell_type": "markdown",
   "metadata": {},
   "source": [
    "**Reference materials:**\n",
    "\n",
    "- https://www.geeksforgeeks.org/how-to-find-prime-and-palindrome-numbers-using-multi-threading-in-java"
   ]
  },
  {
   "cell_type": "markdown",
   "metadata": {},
   "source": [
    "<div style=\"border: 1px solid #ccc; padding: 8px; background-color: #f0f0f0; text-align: center;\">\n",
    "    <strong>CONCLUSION</strong>\n",
    "</div>"
   ]
  },
  {
   "cell_type": "markdown",
   "metadata": {},
   "source": [
    "This multithreaded Java program efficiently finds both prime numbers and palindrome numbers in a given range using separate threads. By dividing the range and processing it concurrently with multiple threads, we significantly reduce execution time for large ranges. Each thread independently handles a portion of the workload, and results are printed in a clear format, with the prime and palindrome numbers being displayed separately."
   ]
  },
  {
   "cell_type": "markdown",
   "metadata": {},
   "source": [
    "<div style=\"border: 1px solid #ccc; padding: 8px; background-color: #f0f0f0; text-align: center;\">\n",
    "    <strong>ASSESSMENT</strong>\n",
    "</div>"
   ]
  },
  {
   "cell_type": "markdown",
   "metadata": {},
   "source": [
    "<img src=\"../marks_distribution.png\" style=\"width: 100%;\" alt=\"marks_distribution\">"
   ]
  }
 ],
 "metadata": {
  "kernelspec": {
   "display_name": "Python 3 (ipykernel)",
   "language": "python",
   "name": "python3"
  },
  "language_info": {
   "codemirror_mode": {
    "name": "ipython",
    "version": 3
   },
   "file_extension": ".py",
   "mimetype": "text/x-python",
   "name": "python",
   "nbconvert_exporter": "python",
   "pygments_lexer": "ipython3",
   "version": "3.12.2"
  }
 },
 "nbformat": 4,
 "nbformat_minor": 4
}
